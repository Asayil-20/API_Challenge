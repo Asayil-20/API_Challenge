{
  "cells": [
    {
      "cell_type": "markdown",
      "id": "70684561-a23a-46af-b932-9d8d33eb7278",
      "metadata": {
        "id": "70684561-a23a-46af-b932-9d8d33eb7278"
      },
      "source": [
        "# 🌦️ Weather Data Logging – Tokyo\n",
        "\n",
        "## 🧠 Introduction\n",
        "\n",
        "As part of my hands-on learning with APIs, this mini-project focuses on collecting daily weather data for **Tokyo** using the OpenWeatherMap API. The goal is to build a simple and structured dataset that can be updated over time and used for later analysis or visualization.\n",
        "\n",
        "The process involves fetching the current weather via API, organizing the response using `pandas`, and storing it in a CSV file. If the file already exists, the new data is automatically appended.\n",
        "\n",
        "---\n",
        "\n",
        "## 🎯 Project Goals\n",
        "\n",
        "- Practice working with RESTful APIs in Python.\n",
        "- Collect real-time weather data for Tokyo only.\n",
        "- Automatically store and update a CSV file with daily weather records.\n",
        "- Build a simple weather log for future analysis or visualization.\n",
        "\n",
        "---\n",
        "\n",
        "## 🧰 Required Libraries\n",
        "\n",
        "- `requests`: to interact with the API\n",
        "- `pandas`: to structure and store the data\n",
        "- `datetime`: to capture the current date\n",
        "- `os`: to check and update the CSV file\n",
        "\n",
        "```python\n",
        "import requests\n",
        "import pandas as pd\n",
        "from datetime import datetime\n",
        "import os\n"
      ]
    },
    {
      "cell_type": "code",
      "execution_count": null,
      "id": "5259a429-408b-414d-b44a-17a2096225f9",
      "metadata": {
        "id": "5259a429-408b-414d-b44a-17a2096225f9"
      },
      "outputs": [],
      "source": [
        "import requests\n",
        "import pandas as pd\n",
        "from datetime import datetime\n",
        "from tabulate import tabulate"
      ]
    },
    {
      "cell_type": "code",
      "execution_count": null,
      "id": "6d71fc6c-811d-44a0-8bed-4042679d99aa",
      "metadata": {
        "id": "6d71fc6c-811d-44a0-8bed-4042679d99aa"
      },
      "outputs": [],
      "source": [
        "API_KEY = \"YOUR_API_KEY\" # Replace this with your own value\n",
        "BASE_URL = 'https://api.openweathermap.org/data/2.5/weather'"
      ]
    },
    {
      "cell_type": "code",
      "execution_count": null,
      "id": "0714b0b0-e8a3-4a06-8a6e-b5831afecad0",
      "metadata": {
        "id": "0714b0b0-e8a3-4a06-8a6e-b5831afecad0"
      },
      "outputs": [],
      "source": [
        "city = 'Tokyo'"
      ]
    },
    {
      "cell_type": "code",
      "execution_count": null,
      "id": "3fec3f99-172f-4fa9-8eff-e89177b9209b",
      "metadata": {
        "id": "3fec3f99-172f-4fa9-8eff-e89177b9209b"
      },
      "outputs": [],
      "source": [
        "# List to store the data you will collect\n",
        "weather_data = []\n",
        "\n",
        "# Get weather data for each city in the list\n",
        "for city in cities:\n",
        "    params = {\n",
        "        'q': city,              # City name\n",
        "        'appid': API_KEY,        # API\n",
        "        'units': 'metric'        # Using the Celsius unit\n",
        "    }\n",
        "    response = requests.get(BASE_URL, params=params)  # Send request to API"
      ]
    },
    {
      "cell_type": "code",
      "source": [
        "if response.status_code == 200:\n",
        "    data = response.json()\n",
        "    weather_info = {\n",
        "        'Date': datetime.now().strftime('%Y-%m-%d'),\n",
        "        'City': city,\n",
        "        'Weather Description': data['weather'][0]['description'],\n",
        "        'Temperature (°C)': data['main']['temp'],\n",
        "        'Humidity (%)': data['main']['humidity'],\n",
        "        'Wind Speed (m/s)': data['wind']['speed']\n",
        "    }\n",
        "\n",
        "# Create a DataFrame\n",
        "df = pd.DataFrame(weather_data)"
      ],
      "metadata": {
        "id": "GyZo8a2AiqhE"
      },
      "id": "GyZo8a2AiqhE",
      "execution_count": null,
      "outputs": []
    },
    {
      "cell_type": "code",
      "execution_count": null,
      "id": "e9b089d2-8ae2-4112-ad4e-5d09ea7aa80d",
      "metadata": {
        "id": "e9b089d2-8ae2-4112-ad4e-5d09ea7aa80d"
      },
      "outputs": [],
      "source": [
        "df = pd.DataFrame(weather_data)"
      ]
    },
    {
      "cell_type": "code",
      "execution_count": null,
      "id": "8f0df026-bcf1-4120-8868-8a3e64707c81",
      "metadata": {
        "id": "8f0df026-bcf1-4120-8868-8a3e64707c81"
      },
      "outputs": [],
      "source": [
        "# Save data to a CSV file\n",
        "df.to_csv('weather_data.csv', index=False)"
      ]
    },
    {
      "cell_type": "code",
      "execution_count": null,
      "id": "8dc6d2d3-9166-4348-9daf-77be4a2764c9",
      "metadata": {
        "id": "8dc6d2d3-9166-4348-9daf-77be4a2764c9",
        "outputId": "ae07c4c4-49a8-4c49-ff9f-e26e732c68e7"
      },
      "outputs": [
        {
          "name": "stdout",
          "output_type": "stream",
          "text": [
            "Weather data collected and saved to 'weather_data.csv'.\n"
          ]
        }
      ],
      "source": [
        "print(\"Weather data collected and saved to 'weather_data.csv'.\")"
      ]
    },
    {
      "cell_type": "code",
      "execution_count": null,
      "id": "03de5df2-960d-4e14-a030-54b8654440ae",
      "metadata": {
        "scrolled": true,
        "id": "03de5df2-960d-4e14-a030-54b8654440ae",
        "outputId": "11f5f1a8-a9b9-42de-fdd7-cee035708f2c"
      },
      "outputs": [
        {
          "name": "stdout",
          "output_type": "stream",
          "text": [
            "+----+------------+--------+-----------------------+--------------------+----------------+--------------------+\n",
            "|    | Date       | City   | Weather Description   |   Temperature (°C) |   Humidity (%) |   Wind Speed (m/s) |\n",
            "+====+============+========+=======================+====================+================+====================+\n",
            "|  0 | 2025-04-26 | Tokyo  | few clouds            |              13.25 |             71 |               1.54 |\n",
            "+----+------------+--------+-----------------------+--------------------+----------------+--------------------+\n"
          ]
        }
      ],
      "source": [
        "print(tabulate(df, headers='keys', tablefmt='grid'))"
      ]
    },
    {
      "cell_type": "code",
      "execution_count": null,
      "id": "029b585b-6ac0-4090-b1a6-eb53daecf02f",
      "metadata": {
        "id": "029b585b-6ac0-4090-b1a6-eb53daecf02f",
        "outputId": "1b33f3ee-a04b-4ed4-b867-1b3739684f34"
      },
      "outputs": [
        {
          "name": "stdout",
          "output_type": "stream",
          "text": [
            "         Date   City Weather Description  Temperature (°C)  Humidity (%)  \\\n",
            "0  2025-04-26  Tokyo          few clouds             13.25            71   \n",
            "\n",
            "   Wind Speed (m/s)  \n",
            "0              1.54  \n"
          ]
        }
      ],
      "source": [
        "print(df)"
      ]
    },
    {
      "cell_type": "code",
      "execution_count": null,
      "id": "ada50e2b-f2e6-4cf4-8e16-ad47af474adc",
      "metadata": {
        "id": "ada50e2b-f2e6-4cf4-8e16-ad47af474adc"
      },
      "outputs": [],
      "source": [
        "try:\n",
        "        # We are trying to read the old table if it exists.\n",
        "        df_old = pd.read_csv('weather_data.csv')\n",
        "except FileNotFoundError:\n",
        "        # If we don't find it, we'll make an empty table.\n",
        "        df_old = pd.DataFrame()"
      ]
    },
    {
      "cell_type": "code",
      "execution_count": null,
      "id": "f57ed81c-9625-49cc-9a4d-36d63aa962f9",
      "metadata": {
        "id": "f57ed81c-9625-49cc-9a4d-36d63aa962f9"
      },
      "outputs": [],
      "source": [
        "# Convert the new row to a DataFrame and paste it with the old table\n",
        "df_new = pd.DataFrame([weather_info])\n",
        "df_final = pd.concat([df_old, df_new], ignore_index=True)"
      ]
    },
    {
      "cell_type": "code",
      "execution_count": null,
      "id": "54856634-530c-4c49-8a91-5301d522a538",
      "metadata": {
        "id": "54856634-530c-4c49-8a91-5301d522a538",
        "outputId": "b48e11ee-8fa6-4aac-d8ba-c446007f4844"
      },
      "outputs": [
        {
          "name": "stdout",
          "output_type": "stream",
          "text": [
            "تم تحديث الجدول وحفظ البيانات ✨\n",
            "         Date   City Weather Description  Temperature (°C)  Humidity (%)  \\\n",
            "0  2025-04-26  Tokyo          few clouds             13.25            71   \n",
            "1  2025-04-27  Tokyo                 NaN             19.47            50   \n",
            "\n",
            "   Wind Speed (m/s) Description  \n",
            "0              1.54         NaN  \n",
            "1              6.17   clear sky  \n"
          ]
        }
      ],
      "source": [
        "# Save file\n",
        "df_final.to_csv('weather_data.csv', index=False)\n",
        "\n",
        "print(\"تم تحديث الجدول وحفظ البيانات ✨\")\n",
        "print(df_final)\n"
      ]
    }
  ],
  "metadata": {
    "kernelspec": {
      "display_name": "Python [conda env:Orange]",
      "language": "python",
      "name": "conda-env-Orange-py"
    },
    "language_info": {
      "codemirror_mode": {
        "name": "ipython",
        "version": 3
      },
      "file_extension": ".py",
      "mimetype": "text/x-python",
      "name": "python",
      "nbconvert_exporter": "python",
      "pygments_lexer": "ipython3",
      "version": "3.11.8"
    },
    "colab": {
      "provenance": []
    }
  },
  "nbformat": 4,
  "nbformat_minor": 5
}